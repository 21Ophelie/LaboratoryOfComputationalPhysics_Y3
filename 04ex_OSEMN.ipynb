{
 "cells": [
  {
   "cell_type": "markdown",
   "metadata": {},
   "source": [
    "# OSEMN Exercises"
   ]
  },
  {
   "cell_type": "code",
   "execution_count": 15,
   "metadata": {},
   "outputs": [],
   "source": [
    "%matplotlib inline\n",
    "import pandas as pd\n",
    "import numpy as np"
   ]
  },
  {
   "cell_type": "markdown",
   "metadata": {},
   "source": [
    "1\\. Create a random list of number and then save it to a text file named \"simple_data.txt\""
   ]
  },
  {
   "cell_type": "code",
   "execution_count": 31,
   "metadata": {},
   "outputs": [
    {
     "name": "stdout",
     "output_type": "stream",
     "text": [
      "[0.08299739 0.90656112 0.34275542 0.03471278 0.34465983 0.12918323\n",
      " 0.08765234 0.50307406 0.89061728 0.90064409 0.52582047 0.05775483\n",
      " 0.40103003 0.96289027 0.12285403 0.14191493 0.57484008 0.03205842\n",
      " 0.20645203 0.70398102]\n"
     ]
    }
   ],
   "source": [
    "randomlistofnumber = np.random.rand(20)\n",
    "print(randomlistofnumber)\n",
    "\n",
    "# mode can be specified for writing, reading or both\n",
    "a = open('simple_data.txt', 'w')\n",
    "a.write(str(nb))    \n",
    "a.close()"
   ]
  },
  {
   "cell_type": "markdown",
   "metadata": {},
   "source": [
    "2\\. Create a random matrix of 5x5 and then save it to a text file named \"data.txt\""
   ]
  },
  {
   "cell_type": "code",
   "execution_count": 61,
   "metadata": {},
   "outputs": [
    {
     "name": "stdout",
     "output_type": "stream",
     "text": [
      "[[0.58707567 0.92436347 0.4400274  0.25883287 0.29422572]\n",
      " [0.58749875 0.23227106 0.346668   0.57908332 0.61932274]\n",
      " [0.91919658 0.06930554 0.54070735 0.78375103 0.47001892]\n",
      " [0.08035125 0.86207222 0.36178326 0.9483764  0.79678906]\n",
      " [0.63278755 0.35583687 0.33035542 0.37453651 0.89940495]]\n"
     ]
    }
   ],
   "source": [
    "randommatrix = np.random.rand(25).reshape(5,5)\n",
    "print(randommatrix)\n",
    "a = open('data.txt', 'w')\n",
    "for tab in randommatrix :\n",
    "    for nb in tab :\n",
    "        a.write(str(nb))\n",
    "        a.write(' ')\n",
    "    a.write('\\n')\n",
    "a.close()"
   ]
  },
  {
   "cell_type": "markdown",
   "metadata": {},
   "source": [
    "3\\. Load the saved txt file of point 2 and convert it to a csv file (by hand)"
   ]
  },
  {
   "cell_type": "code",
   "execution_count": 32,
   "metadata": {},
   "outputs": [
    {
     "name": "stdout",
     "output_type": "stream",
     "text": [
      "[[0.58707567 0.92436347 0.4400274  0.25883287 0.29422572]\n",
      " [0.58749875 0.23227106 0.346668   0.57908332 0.61932274]\n",
      " [0.91919658 0.06930554 0.54070735 0.78375103 0.47001892]\n",
      " [0.08035125 0.86207222 0.36178326 0.9483764  0.79678906]\n",
      " [0.63278755 0.35583687 0.33035542 0.37453651 0.89940495]]\n"
     ]
    }
   ],
   "source": [
    "import csv\n",
    "data = np.loadtxt('data.txt')\n",
    "print(data)\n",
    "a = open('data.csv', 'w',newline='')\n",
    "with a:\n",
    "    writer = csv.writer(a,quoting=csv.QUOTE_ALL)\n",
    "    writer.writerows(data )\n"
   ]
  },
  {
   "cell_type": "markdown",
   "metadata": {},
   "source": [
    "4\\. load the binary file named *credit_card.dat* and convert the data into the real credit-card number.\n",
    "Each line correspond to a credit card number.\n",
    "Each character is composed by 6 bit (even the space) and the last 4 bit are just a padding\n",
    "\n",
    "**hint**: use the `chr()` function to convert a number to a char"
   ]
  },
  {
   "cell_type": "code",
   "execution_count": 16,
   "metadata": {},
   "outputs": [
    {
     "name": "stdout",
     "output_type": "stream",
     "text": [
      "[[7.648e+03 5.673e+03 3.775e+03 2.271e+03]\n",
      " [3.257e+03 8.247e+03 3.354e+03 2.266e+03]\n",
      " [2.722e+03 1.000e+00 4.011e+03 6.652e+03]\n",
      " [6.610e+02 3.063e+03 3.742e+03 3.150e+03]\n",
      " [4.320e+02 1.608e+03 1.462e+03 4.742e+03]\n",
      " [5.827e+03 2.027e+03 8.785e+03 7.303e+03]\n",
      " [5.774e+03 8.528e+03 2.087e+03 1.117e+03]\n",
      " [8.140e+03 1.210e+03 6.352e+03 2.845e+03]\n",
      " [5.764e+03 1.133e+03 7.301e+03 7.100e+03]\n",
      " [6.456e+03 1.737e+03 4.126e+03 6.726e+03]\n",
      " [1.228e+03 8.631e+03 7.382e+03 0.000e+00]\n",
      " [7.051e+03 1.600e+02 5.374e+03 3.166e+03]\n",
      " [6.180e+02 3.587e+03 1.630e+03 6.376e+03]\n",
      " [1.545e+03 5.454e+03 7.444e+03 5.636e+03]\n",
      " [6.735e+03 3.116e+03 3.202e+03 6.834e+03]\n",
      " [7.287e+03 5.011e+03 1.547e+03 8.413e+03]\n",
      " [7.033e+03 2.607e+03 3.328e+03 4.200e+03]\n",
      " [2.568e+03 5.244e+03 1.874e+03 5.024e+03]\n",
      " [1.684e+03 2.253e+03 7.570e+03 7.118e+03]\n",
      " [6.720e+02 2.576e+03 5.750e+02 6.631e+03]\n",
      " [6.332e+03 8.353e+03 8.787e+03 1.340e+03]\n",
      " [1.813e+03 3.361e+03 1.175e+03 4.211e+03]\n",
      " [2.477e+03 6.450e+03 8.840e+03 2.368e+03]\n",
      " [5.512e+03 3.505e+03 2.563e+03 1.326e+03]\n",
      " [3.083e+03 7.882e+03 6.210e+02 2.500e+01]\n",
      " [4.521e+03 5.148e+03 8.045e+03 3.340e+02]\n",
      " [7.563e+03 3.654e+03 8.713e+03 5.787e+03]\n",
      " [8.324e+03 2.664e+03 4.760e+02 5.561e+03]\n",
      " [5.650e+02 2.504e+03 7.168e+03 3.510e+03]\n",
      " [5.107e+03 5.507e+03 1.767e+03 7.380e+02]\n",
      " [2.462e+03 1.821e+03 2.448e+03 1.443e+03]\n",
      " [2.788e+03 6.380e+02 6.861e+03 6.554e+03]\n",
      " [5.851e+03 5.873e+03 5.474e+03 5.470e+02]\n",
      " [6.700e+02 1.004e+03 4.013e+03 2.655e+03]\n",
      " [5.874e+03 5.506e+03 3.048e+03 8.060e+02]\n",
      " [2.805e+03 5.401e+03 8.462e+03 1.260e+03]\n",
      " [5.083e+03 8.406e+03 6.310e+03 1.862e+03]\n",
      " [1.076e+03 1.445e+03 3.013e+03 2.266e+03]\n",
      " [8.440e+03 4.804e+03 4.844e+03 5.277e+03]\n",
      " [4.758e+03 6.141e+03 6.860e+02 1.387e+03]\n",
      " [7.586e+03 6.750e+02 3.150e+02 2.568e+03]\n",
      " [2.544e+03 1.258e+03 7.432e+03 5.165e+03]\n",
      " [3.474e+03 5.023e+03 4.434e+03 5.626e+03]\n",
      " [1.410e+03 2.700e+02 4.340e+02 5.086e+03]\n",
      " [7.315e+03 4.446e+03 1.104e+03 4.215e+03]\n",
      " [2.240e+02 7.742e+03 8.300e+03 2.660e+02]\n",
      " [1.700e+02 2.700e+03 3.145e+03 6.400e+02]\n",
      " [2.006e+03 2.437e+03 8.054e+03 1.600e+03]\n",
      " [8.142e+03 4.055e+03 1.776e+03 2.600e+01]\n",
      " [3.026e+03 7.380e+03 1.241e+03 1.084e+03]]\n"
     ]
    }
   ],
   "source": [
    "with  open('credit_card.dat','rb') as file:\n",
    "    file_content=file.read()\n",
    "    word_counter=0\n",
    "    word_size = 6 # size of the word in bit\n",
    "    credit_card = []\n",
    "    cb = []\n",
    "    for i in range(0, len(file_content), word_size):\n",
    "        num = file_content[i:i+word_size]\n",
    "        numchar=chr(int(num,2))\n",
    "        if numchar == \" \":\n",
    "            cb.append(' ')\n",
    "        elif numchar == '\\n':\n",
    "            credit_card.append(cb)\n",
    "            cb=[]\n",
    "        else :\n",
    "            cb.append(numchar)\n",
    "            \n",
    "a = open('credit_card.txt', 'w')\n",
    "for tab in credit_card :\n",
    "    for nb in tab :\n",
    "        a.write(nb)\n",
    "    a.write('\\n')\n",
    "a.close()\n",
    "\n",
    "data = np.loadtxt('credit_card.txt')\n",
    "print(data)"
   ]
  },
  {
   "cell_type": "markdown",
   "metadata": {},
   "source": [
    "5\\. Load the file \"user_data.json\", filter the data by the \"CreditCardType\" field equals to \"American Express\". Than save the data a to CSV."
   ]
  },
  {
   "cell_type": "code",
   "execution_count": 28,
   "metadata": {},
   "outputs": [],
   "source": [
    "import json\n",
    "data = json.load(open('user_data.json'))\n",
    "\n",
    "import csv\n",
    "a = open('userdatafilterd.csv', 'w',newline='')\n",
    "with a:\n",
    "    writer = csv.writer(a,quoting=csv.QUOTE_ALL)\n",
    "    writer.writerow(data[0])\n",
    "    for person in data :\n",
    "        if person['CreditCardType']=='American Express':\n",
    "            tab= [person['ID'],person['JobTitle'],person['EmailAddress'],person['FirstNameLastName'],person['CreditCardType']]\n",
    "            writer.writerow(tab)\n",
    "\n",
    "        \n"
   ]
  },
  {
   "cell_type": "markdown",
   "metadata": {},
   "source": [
    "6\\. Load the file from this url: [https://www.dropbox.com/s/7u3lm737ogbqsg8/mushrooms_categorized.csv?dl=1](https://www.dropbox.com/s/7u3lm737ogbqsg8/mushrooms_categorized.csv?dl=1) with Pandas. \n",
    "+ Explore the data (see the info of the data)\n",
    "+ Draw the istogram of the 'class' field. Decribe wath yuou see\n"
   ]
  },
  {
   "cell_type": "code",
   "execution_count": 35,
   "metadata": {},
   "outputs": [
    {
     "data": {
      "text/plain": [
       "array([[<matplotlib.axes._subplots.AxesSubplot object at 0x01292EE0>]],\n",
       "      dtype=object)"
      ]
     },
     "execution_count": 35,
     "metadata": {},
     "output_type": "execute_result"
    },
    {
     "data": {
      "image/png": "[encoded data removed]",
      "text/plain": [
       "<Figure size 432x288 with 1 Axes>"
      ]
     },
     "metadata": {
      "needs_background": "light"
     },
     "output_type": "display_data"
    }
   ],
   "source": [
    "file_name=\"mushrooms_categorized.csv\"\n",
    "data=pd.read_csv(file_name,nrows=8125)\n",
    "data.columns=['class','cap-shape','cap-surface','cap-color','bruises','odor','gill-attachment','gill-spacing','gill-size','gill-color','stalk-shape','stalk-root','stalk-surface-above-ring','stalk-surface-below-ring','stalk-color-above-ring','stalk-color-below-ring','veil-type','veil-color','ring-number','ring-type','spore-print-color','population','habitat']\n",
    "data\n",
    "data.hist(\"class\")\n"
   ]
  },
  {
   "cell_type": "markdown",
   "metadata": {},
   "source": [
    "7\\. Load the remote file [https://www.dropbox.com/s/vkl89yce7xjdq4n/regression_generated.csv?dl=1](https://www.dropbox.com/s/vkl89yce7xjdq4n/regression_generated.csv?dl=1) with Pandas and plot a scatter plot all possible combination of the following fields:\n",
    "    \n",
    "  + features_1\n",
    "  + features_2\n",
    "  + features_3"
   ]
  },
  {
   "cell_type": "code",
   "execution_count": null,
   "metadata": {},
   "outputs": [],
   "source": []
  },
  {
   "cell_type": "markdown",
   "metadata": {},
   "source": [
    "8\\. Load the same file of point 6, and convert the file to json with Pandas."
   ]
  },
  {
   "cell_type": "code",
   "execution_count": null,
   "metadata": {},
   "outputs": [],
   "source": []
  }
 ],
 "metadata": {
  "kernelspec": {
   "display_name": "Python 3",
   "language": "python",
   "name": "python3"
  },
  "language_info": {
   "codemirror_mode": {
    "name": "ipython",
    "version": 3
   },
   "file_extension": ".py",
   "mimetype": "text/x-python",
   "name": "python",
   "nbconvert_exporter": "python",
   "pygments_lexer": "ipython3",
   "version": "3.8.3"
  }
 },
 "nbformat": 4,
 "nbformat_minor": 2
}
