{
 "cells": [
  {
   "cell_type": "markdown",
   "metadata": {},
   "source": [
    "1\\. Write a function that converts number representation (bin<->dec<->hex)"
   ]
  },
  {
   "cell_type": "code",
   "execution_count": 17,
   "metadata": {},
   "outputs": [
    {
     "name": "stdout",
     "output_type": "stream",
     "text": [
      "('0b101', '0x5')\n",
      "14\n",
      "40304\n"
     ]
    }
   ],
   "source": [
    "def convert(number=3):\n",
    "    if type(number)==int:\n",
    "        return bin(number),hex (number)\n",
    "    elif type(number) == str :\n",
    "        if number[1]=='x':\n",
    "            return int(number,16)\n",
    "        elif number[1]=='b': \n",
    "            return int(number,2)\n",
    "\n",
    "print(convert(5))\n",
    "print(convert('0b1110'))\n",
    "print(convert('0x9D70'))\n"
   ]
  },
  {
   "cell_type": "markdown",
   "metadata": {},
   "source": [
    "2\\. Write a function that converts a 32 bit word into a single precision floating point (i.e. interprets the various bits as sign, mantissa and exponent)"
   ]
  },
  {
   "cell_type": "code",
   "execution_count": 30,
   "metadata": {},
   "outputs": [
    {
     "name": "stdout",
     "output_type": "stream",
     "text": [
      "(1, 12, -119, 1.9560225997682864e-35)\n"
     ]
    }
   ],
   "source": [
    "def bittosingle(word):\n",
    "    if word[2]==0:\n",
    "        sign = -1\n",
    "    else : \n",
    "        sign = 1\n",
    "    exponent = int('0b' + word[3:11],2) - 127\n",
    "    mantissabit = word[11:]\n",
    "    mantissa=0\n",
    "    for b in mantissabit :\n",
    "        i=0        \n",
    "        if b == '1':\n",
    "            mantissa = mantissa + 1//2**i\n",
    "        i+=1\n",
    "    floatingpoint = (1+mantissa)*sign * 2**exponent\n",
    "    return sign, mantissa, exponent,floatingpoint\n",
    "    \n",
    "    \n",
    "print(bittosingle('0b00000100001101001101011100011010'))\n"
   ]
  },
  {
   "cell_type": "markdown",
   "metadata": {},
   "source": [
    "3\\. Write a program to determine the underflow and overflow limits (within a factor of 2) for python on your computer. \n",
    "\n",
    "**Tips**: define two variables inizialized to 1 and halve/double them enough time to exceed the under/over-flow limits  "
   ]
  },
  {
   "cell_type": "code",
   "execution_count": 108,
   "metadata": {},
   "outputs": [
    {
     "name": "stdout",
     "output_type": "stream",
     "text": [
      "16 1076 0.0\n"
     ]
    },
    {
     "ename": "KeyboardInterrupt",
     "evalue": "",
     "output_type": "error",
     "traceback": [
      "\u001b[1;31m---------------------------------------------------------------------------\u001b[0m",
      "\u001b[1;31mKeyboardInterrupt\u001b[0m                         Traceback (most recent call last)",
      "\u001b[1;32m<ipython-input-108-4081b6dcacac>\u001b[0m in \u001b[0;36m<module>\u001b[1;34m\u001b[0m\n\u001b[0;32m     12\u001b[0m \u001b[0mj\u001b[0m\u001b[1;33m=\u001b[0m\u001b[1;36m1\u001b[0m\u001b[1;33m\u001b[0m\u001b[1;33m\u001b[0m\u001b[0m\n\u001b[0;32m     13\u001b[0m \u001b[1;32mwhile\u001b[0m \u001b[0moverflow\u001b[0m \u001b[1;33m!=\u001b[0m\u001b[1;36m0\u001b[0m \u001b[1;33m:\u001b[0m\u001b[1;33m\u001b[0m\u001b[1;33m\u001b[0m\u001b[0m\n\u001b[1;32m---> 14\u001b[1;33m     \u001b[0moverflow\u001b[0m\u001b[1;33m=\u001b[0m\u001b[0moverflow\u001b[0m\u001b[1;33m*\u001b[0m\u001b[1;36m2\u001b[0m\u001b[1;33m\u001b[0m\u001b[1;33m\u001b[0m\u001b[0m\n\u001b[0m\u001b[0;32m     15\u001b[0m     \u001b[0mi\u001b[0m\u001b[1;33m+=\u001b[0m\u001b[1;36m1\u001b[0m\u001b[1;33m\u001b[0m\u001b[1;33m\u001b[0m\u001b[0m\n\u001b[0;32m     16\u001b[0m \u001b[0mprint\u001b[0m\u001b[1;33m(\u001b[0m\u001b[0msys\u001b[0m\u001b[1;33m.\u001b[0m\u001b[0mgetsizeof\u001b[0m\u001b[1;33m(\u001b[0m\u001b[0moverflow\u001b[0m\u001b[1;33m)\u001b[0m\u001b[1;33m,\u001b[0m\u001b[0mi\u001b[0m\u001b[1;33m,\u001b[0m\u001b[0moverflow\u001b[0m\u001b[1;33m)\u001b[0m\u001b[1;33m\u001b[0m\u001b[1;33m\u001b[0m\u001b[0m\n",
      "\u001b[1;31mKeyboardInterrupt\u001b[0m: "
     ]
    }
   ],
   "source": [
    "import sys\n",
    "underflow=1\n",
    "overflow =1\n",
    "\n",
    "i=1\n",
    "while underflow!=0: \n",
    "    underflow=underflow/2\n",
    "    i+=1\n",
    "    \n",
    "print(sys.getsizeof(underflow),i,underflow)\n",
    "\n",
    "j=1 \n",
    "while overflow !=0 :\n",
    "    overflow=overflow*2\n",
    "    i+=1\n",
    "print(sys.getsizeof(overflow),i,overflow)"
   ]
  },
  {
   "cell_type": "markdown",
   "metadata": {},
   "source": [
    "4\\. Write a program to determine the machine precision\n",
    "\n",
    "**Tips**: define a new variable by adding a smaller and smaller value (proceeding similarly to prob. 2) to an original variable and check the point where the two are the same "
   ]
  },
  {
   "cell_type": "code",
   "execution_count": 51,
   "metadata": {},
   "outputs": [
    {
     "name": "stdout",
     "output_type": "stream",
     "text": [
      "precision:  1e-15\n"
     ]
    }
   ],
   "source": [
    "acc=4 \n",
    "e=0\n",
    "while acc+1.0*10**-e != acc :\n",
    "    e+=1\n",
    "\n",
    "print(\"precision: \",10**(-(e-1)))"
   ]
  },
  {
   "cell_type": "markdown",
   "metadata": {},
   "source": [
    "5\\. Write a function that takes in input three parameters $a$, $b$ and $c$ and prints out the two solutions to the quadratic equation $ax^2+bx+c=0$ using the standard formula:\n",
    "$$\n",
    "x=\\frac{-b\\pm\\sqrt{b^2-4ac}}{2a}\n",
    "$$\n",
    "\n",
    "(a) use the program to compute the solution for $a=0.001$, $b=1000$ and $c=0.001$\n",
    "\n",
    "(b) re-express the standard solution formula by multiplying top and bottom by $-b\\mp\\sqrt{b^2-4ac}$ and again find the solution for $a=0.001$, $b=1000$ and $c=0.001$. How does it compare with what previously obtained? Why?\n",
    "\n",
    "(c) write a function that compute the roots of a quadratic equation accurately in all cases"
   ]
  },
  {
   "cell_type": "code",
   "execution_count": 54,
   "metadata": {},
   "outputs": [
    {
     "name": "stdout",
     "output_type": "stream",
     "text": [
      "(-9.999894245993346e-07, -999999.999999)\n",
      "(-9.999894245993346e-07, -999999.999999)\n"
     ]
    }
   ],
   "source": [
    "import math\n",
    "def sol(a,b,c):\n",
    "    return (-b+(b**2-4*a*c)**0.5)/(2*a),(-b-(b**2-4*a*c)**0.5)/(2*a)\n",
    "#a)\n",
    "print(sol(0.001,1000,0.001))\n",
    "\n",
    "#b)\n",
    "def solbis(a,b,c):\n",
    "    return (-b+(b**2-4*a*c)**0.5)*(-b+(b**2-4*a*c)**0.5)/(2*a*(-b+(b**2-4*a*c)**0.5)),(-b-(b**2-4*a*c)**0.5)*(-b-(b**2-4*a*c)**0.5)/(2*a*(-b-(b**2-4*a*c)**0.5))\n",
    "\n",
    "print(solbis(0.001,1000,0.001))\n",
    "\n",
    "#c)"
   ]
  },
  {
   "cell_type": "markdown",
   "metadata": {},
   "source": [
    "6\\. Write a program that implements the function $f(x)=x(x−1)$\n",
    "\n",
    "(a) Calculate the derivative of the function at the point $x = 1$ using the derivative definition:\n",
    "\n",
    "$$\n",
    "\\frac{{\\rm d}f}{{\\rm d}x} = \\lim_{\\delta\\to0} \\frac{f(x+\\delta)-f(x)}{\\delta}\n",
    "$$\n",
    "\n",
    "with $\\delta = 10^{−2}$. Calculate the true value of the same derivative analytically and compare with the answer your program gives. The two will not agree perfectly. Why not?\n",
    "\n",
    "(b) Repeat the calculation for $\\delta = 10^{−4}, 10^{−6}, 10^{−8}, 10^{−10}, 10^{−12}$ and $10^{−14}$. How does the accuracy scales with $\\delta$?"
   ]
  },
  {
   "cell_type": "code",
   "execution_count": 57,
   "metadata": {},
   "outputs": [
    {
     "name": "stdout",
     "output_type": "stream",
     "text": [
      "1.010000000000001\n",
      "1.0000999999998899\n",
      "1.0000009999177333\n",
      "1.0000000039225287\n",
      "1.000000082840371\n",
      "1.0000889005833413\n",
      "0.9992007221626509\n"
     ]
    }
   ],
   "source": [
    "def f(x) : return x*(x-1)\n",
    "\n",
    "#a)\n",
    "delta = 10**-2\n",
    "def df (x,d) :\n",
    "    return (f(x+d)-f(x))/d\n",
    "\n",
    "print (df(1,delta)) \n",
    "\n",
    "#b) \n",
    "for e in [4,6,8,10,12,14] : print (df(1,10**-e)) "
   ]
  },
  {
   "cell_type": "markdown",
   "metadata": {},
   "source": [
    "7\\. Consider the integral of the semicircle of radius 1:\n",
    "$$\n",
    "I=\\int_{-1}^{1} \\sqrt(1-x^2) {\\rm d}x\n",
    "$$\n",
    "which it's known to be $I=\\frac{\\pi}{2}=1.57079632679...$.\n",
    "Alternatively we can use the Riemann definition of the integral:\n",
    "$$\n",
    "I=\\lim_{N\\to\\infty} \\sum_{k=1}^{N} h y_k \n",
    "$$\n",
    "\n",
    "with $h=2/N$ the width of each of the $N$ slices the domain is divided into and where\n",
    "$y_k$ is the value of the function at the $k-$th slice.\n",
    "\n",
    "(a) Write a programe to compute the integral with $N=100$. How does the result compares to the true value?\n",
    "\n",
    "(b) How much can $N$ be increased if the computation needs to be run in less than a second? What is the gain in running it for 1 minute? \n"
   ]
  },
  {
   "cell_type": "code",
   "execution_count": 103,
   "metadata": {},
   "outputs": [
    {
     "name": "stdout",
     "output_type": "stream",
     "text": [
      "(6.1194489382275564e-15+99.93818531985147j)\n",
      "((1.0833200747905921e-10+1769195.9437526872j), 884613)\n",
      "diff =  (-6.195645872717701e-09-101182575.68187101j)\n"
     ]
    }
   ],
   "source": [
    "#a)\n",
    "import numpy as np\n",
    "\n",
    "def i(N):\n",
    "    return np.sum([(2/(N+1)) * ((1-k**2)**0.5) for k in range (1,N+1)])\n",
    "\n",
    "print(i(100))\n",
    "\n",
    "#b)\n",
    "import time  \n",
    "\n",
    "def ibis(t):\n",
    "    s=0\n",
    "    t2=0\n",
    "    k=1\n",
    "    t1 = time.time() \n",
    "    while t2-t1<t :\n",
    "        s=s+(2/(k+1)) * ((1-k**2)**0.5)\n",
    "        k+=1\n",
    "        t2 =time.time() \n",
    "    return s,k\n",
    "\n",
    "#1sec\n",
    "print(ibis(1))\n",
    "\n",
    "#1min\n",
    "#print(ibis(60))\n",
    "\n",
    "print(\"diff = \",(9.908642492889024e-11+1618204.1221661477j)-(6.294732297646591e-09+102800779.80403715j))\n"
   ]
  },
  {
   "cell_type": "code",
   "execution_count": null,
   "metadata": {},
   "outputs": [],
   "source": []
  }
 ],
 "metadata": {
  "kernelspec": {
   "display_name": "Python 3",
   "language": "python",
   "name": "python3"
  },
  "language_info": {
   "codemirror_mode": {
    "name": "ipython",
    "version": 3
   },
   "file_extension": ".py",
   "mimetype": "text/x-python",
   "name": "python",
   "nbconvert_exporter": "python",
   "pygments_lexer": "ipython3",
   "version": "3.8.3"
  }
 },
 "nbformat": 4,
 "nbformat_minor": 2
}
